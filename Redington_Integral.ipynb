{
 "cells": [
  {
   "cell_type": "markdown",
   "metadata": {},
   "source": [
    "### Power Function"
   ]
  },
  {
   "cell_type": "code",
   "execution_count": 1,
   "metadata": {},
   "outputs": [],
   "source": [
    "def my_pow(x,n):\n",
    "    \"\"\"\n",
    "    Computes the nth power of x\n",
    "    \n",
    "    Args:\n",
    "        x (float): the base number\n",
    "        n (float): the exponent\n",
    "    \"\"\"\n",
    "    result = x**n\n",
    "    return result"
   ]
  },
  {
   "cell_type": "markdown",
   "metadata": {},
   "source": [
    "Tests"
   ]
  },
  {
   "cell_type": "code",
   "execution_count": 2,
   "metadata": {},
   "outputs": [
    {
     "name": "stdout",
     "output_type": "stream",
     "text": [
      "0.0\n",
      "1.0\n",
      "125.0\n",
      "5.0\n"
     ]
    }
   ],
   "source": [
    "print(my_pow(0.0,3.0))\n",
    "print(my_pow(5.0,0.0))\n",
    "print(my_pow(5.0,3.0))\n",
    "print(my_pow(25,0.5))"
   ]
  },
  {
   "cell_type": "markdown",
   "metadata": {},
   "source": [
    "### Provided "
   ]
  },
  {
   "cell_type": "code",
   "execution_count": 3,
   "metadata": {},
   "outputs": [],
   "source": [
    "def integral_aux(func, func_params, a, b, npoints):\n",
    "    \"\"\"\n",
    "    This will be similar to your target function, but with a finite number of integration points\n",
    "    \"\"\"\n",
    "    return 0.0"
   ]
  },
  {
   "cell_type": "code",
   "execution_count": 4,
   "metadata": {},
   "outputs": [],
   "source": [
    "def integral(func, func_params, a, b, precision):\n",
    "    \"\"\"\n",
    "    Computes a definite integral of 1D function func on the interval [a, b]\n",
    "    with the precision of \"precicion\"\n",
    "\n",
    "    Args:\n",
    "        func ( function_object ): the function to integrate\n",
    "        func_params ( dictionary ): the additional parameters of the function\n",
    "        a, b ( float ): end points of the integration\n",
    "        precision ( float ): the consition for finishing the integration\n",
    "            such that | integral_aux(... npoints) - integral_aux(... 2*npoints)| < precision\n",
    "\n",
    "    To obey the precision, you would need to vary the number of integration points (related to dx)\n",
    "    to reach the convergence to that specified threshold\n",
    "\n",
    "    Info: https://en.wikipedia.org/wiki/Simpson%27s_rule\n",
    "    \"\"\"\n",
    "\n",
    "    res = 0.0\n",
    "\n",
    "    return res "
   ]
  },
  {
   "cell_type": "code",
   "execution_count": 5,
   "metadata": {},
   "outputs": [],
   "source": [
    "def my_super_power(x, params):\n",
    "    \"\"\"\n",
    "    Returns the nth power of x multiplied by a prefactor term\n",
    "    \n",
    "    Args:\n",
    "        x (float): exponent base\n",
    "        params:\n",
    "            n (float): exponent power\n",
    "            A (float): prefactor term\n",
    "        \n",
    "    \"\"\"\n",
    "    A = params[\"prefactor\"]\n",
    "    n = params[\"power\"]\n",
    "    return A * x**n\n",
    "\n",
    "# this would compute int_-^1 { 1*x^2 } = ( 1/3 )* x^3 | _0 ^1 = 1/3  <- the result you should get\n",
    "\n",
    "my_integral = integral( my_super_power, {\"prefactor\":1.0, \"power\":2}, 0, 1, 1e-10)"
   ]
  },
  {
   "cell_type": "markdown",
   "metadata": {},
   "source": [
    "### Integration Function using Simpson's Rule"
   ]
  },
  {
   "cell_type": "markdown",
   "metadata": {},
   "source": [
    "Simpson's rule is as follows \n",
    "\n",
    "$$\\int_{a}^{b}f(x)dx \\approx \\frac{b-a}{6} \\left [ f(a) + 4f(\\frac{a+b}{2}) + f(b) \\right ] $$\n"
   ]
  },
  {
   "cell_type": "markdown",
   "metadata": {},
   "source": [
    "The composite Simpson's rule is given as \n",
    "\n",
    "$$\\int_{a}^{b}f(x)dx \\approx \\frac{h}{3} \\sum_{j=1}^{n/2} \\left( f(x_{2j-2}) + 4 f(x_{2j-1}) + f(x_{2j}) \\right) $$\n",
    "\n",
    "where $$ h = \\frac{b - a}{n} $$ \n",
    "\n",
    "and n is an even non-zero integer and $$x_{j} = a + jh$$"
   ]
  },
  {
   "cell_type": "markdown",
   "metadata": {},
   "source": [
    "## Code"
   ]
  },
  {
   "cell_type": "markdown",
   "metadata": {},
   "source": [
    "Establishing a function that integrates using Simpson's rule"
   ]
  },
  {
   "cell_type": "markdown",
   "metadata": {},
   "source": [
    "#### Imports"
   ]
  },
  {
   "cell_type": "code",
   "execution_count": 6,
   "metadata": {},
   "outputs": [],
   "source": [
    "import numpy as np #imports numpy for use of linspace (and to aid in testing)"
   ]
  },
  {
   "cell_type": "code",
   "execution_count": 7,
   "metadata": {},
   "outputs": [],
   "source": [
    "def integral_aux(func, a, b, N=100): #default is 100 integration points\n",
    "    \"\"\"\n",
    "    Computes a definite integral of 1D function func on the interval [a, b] for use with integral function\n",
    "\n",
    "    Args:\n",
    "        func ( function_object ): the function to integrate. The author suggests using lambda \n",
    "        a, b ( float ): start and end points of the integration\n",
    "        N (int): number of sections the integration space is divided into  \n",
    "    \"\"\"\n",
    "    if N % 2 == 1:\n",
    "        raise ValueError(\"N must be an even integer\") #see above equations\n",
    "    if N == 0:\n",
    "        raise ValueError(\"N must be an even non-zero integer\") #see above equations\n",
    "    h = (b-a)/N\n",
    "    x = np.linspace(a,b,N+1) #evenly slices the interval from a to b into N+1 pieces\n",
    "    y = func(x) #solves the function for each sliced value\n",
    "    result = h/3 * np.sum(y[0:-1:2] + 4*y[1::2] + y[2::2]) #these are set up so that each list is offset, avoiding triple counting\n",
    "    return result"
   ]
  },
  {
   "cell_type": "markdown",
   "metadata": {},
   "source": [
    "Test 1"
   ]
  },
  {
   "cell_type": "code",
   "execution_count": 8,
   "metadata": {},
   "outputs": [
    {
     "data": {
      "text/plain": [
       "0.33333333333333337"
      ]
     },
     "execution_count": 8,
     "metadata": {},
     "output_type": "execute_result"
    }
   ],
   "source": [
    "integral_aux(lambda x : 1*x**2,0,1,10) #Tests int_-^1 { 1*x^2 } = ( 1/3 )* x^3"
   ]
  },
  {
   "cell_type": "markdown",
   "metadata": {},
   "source": [
    "Test 2"
   ]
  },
  {
   "cell_type": "code",
   "execution_count": 9,
   "metadata": {},
   "outputs": [
    {
     "data": {
      "text/plain": [
       "1.8601965322712702e-16"
      ]
     },
     "execution_count": 9,
     "metadata": {},
     "output_type": "execute_result"
    }
   ],
   "source": [
    "integral_aux(np.cos,0,np.pi,10) #Tests a trigonometric function"
   ]
  },
  {
   "cell_type": "markdown",
   "metadata": {},
   "source": [
    "Test 3"
   ]
  },
  {
   "cell_type": "code",
   "execution_count": 10,
   "metadata": {},
   "outputs": [
    {
     "data": {
      "text/plain": [
       "0.3798854430223608"
      ]
     },
     "execution_count": 10,
     "metadata": {},
     "output_type": "execute_result"
    }
   ],
   "source": [
    "integral_aux(lambda x : 1/(1+np.exp(x)),0,1,10) #tests 1/1+e^x"
   ]
  },
  {
   "cell_type": "code",
   "execution_count": 11,
   "metadata": {},
   "outputs": [],
   "source": [
    "def integral(func, a, b, precision):\n",
    "    \"\"\"\n",
    "    Computes a definite integral of 1D function func on the interval [a, b] with the precision of \"precision\"\n",
    "    Args:\n",
    "        func ( function_object ): the function to integrate. The author suggests using lambda \n",
    "        a, b ( float ): start and end points of the integration\n",
    "        precision ( float ): the condition for finishing the integration, \n",
    "        such that | integral_aux(... npoints) - integral_aux(... 2*npoints)| < precision\n",
    "    \"\"\"\n",
    "    N = 100\n",
    "    result_1 = integral_aux(func, a, b, N)\n",
    "    print(result_1) #debug line\n",
    "    N = 2*N\n",
    "    result_2 = integral_aux(func, a, b, N)\n",
    "    print(result_2) #debug line\n",
    "    while abs(result_1 - result_2) > precision: #repeats while ∆ results > precision\n",
    "        N = 2*N\n",
    "        result_1 = integral_aux(func, a, b, N)\n",
    "        print(result_1) #debug line\n",
    "        N = 2*N\n",
    "        result_2 = integral_aux(func, a, b, N)\n",
    "        print(result_2) #debug line\n",
    "    return result_2"
   ]
  },
  {
   "cell_type": "markdown",
   "metadata": {},
   "source": [
    "Test 1"
   ]
  },
  {
   "cell_type": "code",
   "execution_count": 12,
   "metadata": {},
   "outputs": [
    {
     "name": "stdout",
     "output_type": "stream",
     "text": [
      "0.33333333333333337\n",
      "0.3333333333333334\n"
     ]
    },
    {
     "data": {
      "text/plain": [
       "0.3333333333333334"
      ]
     },
     "execution_count": 12,
     "metadata": {},
     "output_type": "execute_result"
    }
   ],
   "source": [
    "integral(lambda x : 1*x**2,0,1,1e-10) #Tests int_-^1 { 1*x^2 } = ( 1/3 )* x^3"
   ]
  },
  {
   "cell_type": "markdown",
   "metadata": {},
   "source": [
    "Test 2"
   ]
  },
  {
   "cell_type": "code",
   "execution_count": 13,
   "metadata": {},
   "outputs": [
    {
     "name": "stdout",
     "output_type": "stream",
     "text": [
      "-1.58116705243058e-16\n",
      "-1.1161179193627623e-16\n"
     ]
    },
    {
     "data": {
      "text/plain": [
       "-1.1161179193627623e-16"
      ]
     },
     "execution_count": 13,
     "metadata": {},
     "output_type": "execute_result"
    }
   ],
   "source": [
    "integral(np.cos,0,np.pi,1e-10) #Tests a trigonometric function"
   ]
  },
  {
   "cell_type": "markdown",
   "metadata": {},
   "source": [
    "Test 3"
   ]
  },
  {
   "cell_type": "code",
   "execution_count": 14,
   "metadata": {},
   "outputs": [
    {
     "name": "stdout",
     "output_type": "stream",
     "text": [
      "0.37988549303674035\n",
      "0.3798854930414111\n"
     ]
    },
    {
     "data": {
      "text/plain": [
       "0.3798854930414111"
      ]
     },
     "execution_count": 14,
     "metadata": {},
     "output_type": "execute_result"
    }
   ],
   "source": [
    "integral(lambda x : 1/(1+np.exp(x)),0,1,1e-10) #tests 1/1+e^x"
   ]
  },
  {
   "cell_type": "markdown",
   "metadata": {},
   "source": [
    "### Scipy Integrate"
   ]
  },
  {
   "cell_type": "code",
   "execution_count": 15,
   "metadata": {},
   "outputs": [],
   "source": [
    "from scipy import integrate"
   ]
  },
  {
   "cell_type": "markdown",
   "metadata": {},
   "source": [
    "Test 1"
   ]
  },
  {
   "cell_type": "code",
   "execution_count": 16,
   "metadata": {},
   "outputs": [
    {
     "data": {
      "text/plain": [
       "(0.33333333333333337, 3.700743415417189e-15)"
      ]
     },
     "execution_count": 16,
     "metadata": {},
     "output_type": "execute_result"
    }
   ],
   "source": [
    "integrate.quad(lambda x : 1*x**2,0,1,epsabs=1e-20)"
   ]
  },
  {
   "cell_type": "markdown",
   "metadata": {},
   "source": [
    "Test 3"
   ]
  },
  {
   "cell_type": "code",
   "execution_count": 17,
   "metadata": {},
   "outputs": [
    {
     "data": {
      "text/plain": [
       "(0.3798854930417225, 4.21757621096e-15)"
      ]
     },
     "execution_count": 17,
     "metadata": {},
     "output_type": "execute_result"
    }
   ],
   "source": [
    "integrate.quad(lambda x : 1/(1+np.exp(x)),0,1,epsabs=1e-20) #tests 1/1+e^x"
   ]
  }
 ],
 "metadata": {
  "kernelspec": {
   "display_name": "Python 3",
   "language": "python",
   "name": "python3"
  },
  "language_info": {
   "codemirror_mode": {
    "name": "ipython",
    "version": 3
   },
   "file_extension": ".py",
   "mimetype": "text/x-python",
   "name": "python",
   "nbconvert_exporter": "python",
   "pygments_lexer": "ipython3",
   "version": "3.9.1"
  }
 },
 "nbformat": 4,
 "nbformat_minor": 2
}
